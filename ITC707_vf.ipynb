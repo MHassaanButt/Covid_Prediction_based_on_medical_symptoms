{
  "nbformat": 4,
  "nbformat_minor": 0,
  "metadata": {
    "kernelspec": {
      "display_name": "Python 3",
      "language": "python",
      "name": "python3"
    },
    "language_info": {
      "codemirror_mode": {
        "name": "ipython",
        "version": 3
      },
      "file_extension": ".py",
      "mimetype": "text/x-python",
      "name": "python",
      "nbconvert_exporter": "python",
      "pygments_lexer": "ipython3",
      "version": "3.8.5"
    },
    "colab": {
      "name": "ITC707.ipynb",
      "provenance": []
    },
    "accelerator": "GPU",
    "widgets": {
      "application/vnd.jupyter.widget-state+json": {
        "0bed10f63484465b8d835549acb06bd1": {
          "model_module": "@jupyter-widgets/controls",
          "model_name": "HBoxModel",
          "model_module_version": "1.5.0",
          "state": {
            "_view_name": "HBoxView",
            "_dom_classes": [],
            "_model_name": "HBoxModel",
            "_view_module": "@jupyter-widgets/controls",
            "_model_module_version": "1.5.0",
            "_view_count": null,
            "_view_module_version": "1.5.0",
            "box_style": "",
            "layout": "IPY_MODEL_11833347ceb14ce8813f36397cc3c5ad",
            "_model_module": "@jupyter-widgets/controls",
            "children": [
              "IPY_MODEL_19564b9a612a480b811baea434edd7e0",
              "IPY_MODEL_8c8a4c03daef4f9ba2d6ecf18fdb76ff",
              "IPY_MODEL_7546b71425ae4337a0a3c474daba8c79"
            ]
          }
        },
        "11833347ceb14ce8813f36397cc3c5ad": {
          "model_module": "@jupyter-widgets/base",
          "model_name": "LayoutModel",
          "model_module_version": "1.2.0",
          "state": {
            "_view_name": "LayoutView",
            "grid_template_rows": null,
            "right": null,
            "justify_content": null,
            "_view_module": "@jupyter-widgets/base",
            "overflow": null,
            "_model_module_version": "1.2.0",
            "_view_count": null,
            "flex_flow": null,
            "width": null,
            "min_width": null,
            "border": null,
            "align_items": null,
            "bottom": null,
            "_model_module": "@jupyter-widgets/base",
            "top": null,
            "grid_column": null,
            "overflow_y": null,
            "overflow_x": null,
            "grid_auto_flow": null,
            "grid_area": null,
            "grid_template_columns": null,
            "flex": null,
            "_model_name": "LayoutModel",
            "justify_items": null,
            "grid_row": null,
            "max_height": null,
            "align_content": null,
            "visibility": null,
            "align_self": null,
            "height": null,
            "min_height": null,
            "padding": null,
            "grid_auto_rows": null,
            "grid_gap": null,
            "max_width": null,
            "order": null,
            "_view_module_version": "1.2.0",
            "grid_template_areas": null,
            "object_position": null,
            "object_fit": null,
            "grid_auto_columns": null,
            "margin": null,
            "display": null,
            "left": null
          }
        },
        "19564b9a612a480b811baea434edd7e0": {
          "model_module": "@jupyter-widgets/controls",
          "model_name": "HTMLModel",
          "model_module_version": "1.5.0",
          "state": {
            "_view_name": "HTMLView",
            "style": "IPY_MODEL_9d985808841b423da1d79d8b79ab3d44",
            "_dom_classes": [],
            "description": "",
            "_model_name": "HTMLModel",
            "placeholder": "​",
            "_view_module": "@jupyter-widgets/controls",
            "_model_module_version": "1.5.0",
            "value": "100%",
            "_view_count": null,
            "_view_module_version": "1.5.0",
            "description_tooltip": null,
            "_model_module": "@jupyter-widgets/controls",
            "layout": "IPY_MODEL_79186e7d00644fcebd66f1d5cb64a3de"
          }
        },
        "8c8a4c03daef4f9ba2d6ecf18fdb76ff": {
          "model_module": "@jupyter-widgets/controls",
          "model_name": "FloatProgressModel",
          "model_module_version": "1.5.0",
          "state": {
            "_view_name": "ProgressView",
            "style": "IPY_MODEL_77addc9bd9a74a5ca7e425a7356d5bb1",
            "_dom_classes": [],
            "description": "",
            "_model_name": "FloatProgressModel",
            "bar_style": "success",
            "max": 50,
            "_view_module": "@jupyter-widgets/controls",
            "_model_module_version": "1.5.0",
            "value": 50,
            "_view_count": null,
            "_view_module_version": "1.5.0",
            "orientation": "horizontal",
            "min": 0,
            "description_tooltip": null,
            "_model_module": "@jupyter-widgets/controls",
            "layout": "IPY_MODEL_b7586a9b0f2b413f8d11d29b73696be4"
          }
        },
        "7546b71425ae4337a0a3c474daba8c79": {
          "model_module": "@jupyter-widgets/controls",
          "model_name": "HTMLModel",
          "model_module_version": "1.5.0",
          "state": {
            "_view_name": "HTMLView",
            "style": "IPY_MODEL_627f26df22d04ffa83f45a55fdb90f1f",
            "_dom_classes": [],
            "description": "",
            "_model_name": "HTMLModel",
            "placeholder": "​",
            "_view_module": "@jupyter-widgets/controls",
            "_model_module_version": "1.5.0",
            "value": " 50/50 [00:00&lt;00:00, 601.25it/s]",
            "_view_count": null,
            "_view_module_version": "1.5.0",
            "description_tooltip": null,
            "_model_module": "@jupyter-widgets/controls",
            "layout": "IPY_MODEL_d24d9258800d48c38d5988887c27129a"
          }
        },
        "9d985808841b423da1d79d8b79ab3d44": {
          "model_module": "@jupyter-widgets/controls",
          "model_name": "DescriptionStyleModel",
          "model_module_version": "1.5.0",
          "state": {
            "_view_name": "StyleView",
            "_model_name": "DescriptionStyleModel",
            "description_width": "",
            "_view_module": "@jupyter-widgets/base",
            "_model_module_version": "1.5.0",
            "_view_count": null,
            "_view_module_version": "1.2.0",
            "_model_module": "@jupyter-widgets/controls"
          }
        },
        "79186e7d00644fcebd66f1d5cb64a3de": {
          "model_module": "@jupyter-widgets/base",
          "model_name": "LayoutModel",
          "model_module_version": "1.2.0",
          "state": {
            "_view_name": "LayoutView",
            "grid_template_rows": null,
            "right": null,
            "justify_content": null,
            "_view_module": "@jupyter-widgets/base",
            "overflow": null,
            "_model_module_version": "1.2.0",
            "_view_count": null,
            "flex_flow": null,
            "width": null,
            "min_width": null,
            "border": null,
            "align_items": null,
            "bottom": null,
            "_model_module": "@jupyter-widgets/base",
            "top": null,
            "grid_column": null,
            "overflow_y": null,
            "overflow_x": null,
            "grid_auto_flow": null,
            "grid_area": null,
            "grid_template_columns": null,
            "flex": null,
            "_model_name": "LayoutModel",
            "justify_items": null,
            "grid_row": null,
            "max_height": null,
            "align_content": null,
            "visibility": null,
            "align_self": null,
            "height": null,
            "min_height": null,
            "padding": null,
            "grid_auto_rows": null,
            "grid_gap": null,
            "max_width": null,
            "order": null,
            "_view_module_version": "1.2.0",
            "grid_template_areas": null,
            "object_position": null,
            "object_fit": null,
            "grid_auto_columns": null,
            "margin": null,
            "display": null,
            "left": null
          }
        },
        "77addc9bd9a74a5ca7e425a7356d5bb1": {
          "model_module": "@jupyter-widgets/controls",
          "model_name": "ProgressStyleModel",
          "model_module_version": "1.5.0",
          "state": {
            "_view_name": "StyleView",
            "_model_name": "ProgressStyleModel",
            "description_width": "",
            "_view_module": "@jupyter-widgets/base",
            "_model_module_version": "1.5.0",
            "_view_count": null,
            "_view_module_version": "1.2.0",
            "bar_color": null,
            "_model_module": "@jupyter-widgets/controls"
          }
        },
        "b7586a9b0f2b413f8d11d29b73696be4": {
          "model_module": "@jupyter-widgets/base",
          "model_name": "LayoutModel",
          "model_module_version": "1.2.0",
          "state": {
            "_view_name": "LayoutView",
            "grid_template_rows": null,
            "right": null,
            "justify_content": null,
            "_view_module": "@jupyter-widgets/base",
            "overflow": null,
            "_model_module_version": "1.2.0",
            "_view_count": null,
            "flex_flow": null,
            "width": null,
            "min_width": null,
            "border": null,
            "align_items": null,
            "bottom": null,
            "_model_module": "@jupyter-widgets/base",
            "top": null,
            "grid_column": null,
            "overflow_y": null,
            "overflow_x": null,
            "grid_auto_flow": null,
            "grid_area": null,
            "grid_template_columns": null,
            "flex": null,
            "_model_name": "LayoutModel",
            "justify_items": null,
            "grid_row": null,
            "max_height": null,
            "align_content": null,
            "visibility": null,
            "align_self": null,
            "height": null,
            "min_height": null,
            "padding": null,
            "grid_auto_rows": null,
            "grid_gap": null,
            "max_width": null,
            "order": null,
            "_view_module_version": "1.2.0",
            "grid_template_areas": null,
            "object_position": null,
            "object_fit": null,
            "grid_auto_columns": null,
            "margin": null,
            "display": null,
            "left": null
          }
        },
        "627f26df22d04ffa83f45a55fdb90f1f": {
          "model_module": "@jupyter-widgets/controls",
          "model_name": "DescriptionStyleModel",
          "model_module_version": "1.5.0",
          "state": {
            "_view_name": "StyleView",
            "_model_name": "DescriptionStyleModel",
            "description_width": "",
            "_view_module": "@jupyter-widgets/base",
            "_model_module_version": "1.5.0",
            "_view_count": null,
            "_view_module_version": "1.2.0",
            "_model_module": "@jupyter-widgets/controls"
          }
        },
        "d24d9258800d48c38d5988887c27129a": {
          "model_module": "@jupyter-widgets/base",
          "model_name": "LayoutModel",
          "model_module_version": "1.2.0",
          "state": {
            "_view_name": "LayoutView",
            "grid_template_rows": null,
            "right": null,
            "justify_content": null,
            "_view_module": "@jupyter-widgets/base",
            "overflow": null,
            "_model_module_version": "1.2.0",
            "_view_count": null,
            "flex_flow": null,
            "width": null,
            "min_width": null,
            "border": null,
            "align_items": null,
            "bottom": null,
            "_model_module": "@jupyter-widgets/base",
            "top": null,
            "grid_column": null,
            "overflow_y": null,
            "overflow_x": null,
            "grid_auto_flow": null,
            "grid_area": null,
            "grid_template_columns": null,
            "flex": null,
            "_model_name": "LayoutModel",
            "justify_items": null,
            "grid_row": null,
            "max_height": null,
            "align_content": null,
            "visibility": null,
            "align_self": null,
            "height": null,
            "min_height": null,
            "padding": null,
            "grid_auto_rows": null,
            "grid_gap": null,
            "max_width": null,
            "order": null,
            "_view_module_version": "1.2.0",
            "grid_template_areas": null,
            "object_position": null,
            "object_fit": null,
            "grid_auto_columns": null,
            "margin": null,
            "display": null,
            "left": null
          }
        }
      }
    }
  },
  "cells": [
    {
      "cell_type": "code",
      "metadata": {
        "id": "SV393ba5Y5-f"
      },
      "source": [
        "# Please enter your NAME and student ID\n",
        "NAME = \"Maddela Uday Kiran Goud\"\n",
        "ID = \"1122397\"\n"
      ],
      "execution_count": 1,
      "outputs": []
    },
    {
      "cell_type": "code",
      "metadata": {
        "colab": {
          "base_uri": "https://localhost:8080/",
          "height": 0
        },
        "id": "vQevsJbYZCNV",
        "outputId": "f4399749-8a47-4721-e102-458e3c1a510c"
      },
      "source": [
        "# Please run this cell to get Java and spark installed\n",
        "!apt-get update\n",
        "!apt-get install openjdk-8-jdk-headless -qq > /dev/null\n",
        "!wget -q https://archive.apache.org/dist/spark/spark-2.4.7/spark-2.4.7-bin-hadoop2.7.tgz\n",
        "!tar xf spark-2.4.7-bin-hadoop2.7.tgz\n",
        "!pip install pyspark==2.4.7\n"
      ],
      "execution_count": 2,
      "outputs": [
        {
          "output_type": "stream",
          "name": "stdout",
          "text": [
            "Hit:1 https://cloud.r-project.org/bin/linux/ubuntu bionic-cran40/ InRelease\n",
            "Ign:2 https://developer.download.nvidia.com/compute/cuda/repos/ubuntu1804/x86_64  InRelease\n",
            "Hit:3 http://security.ubuntu.com/ubuntu bionic-security InRelease\n",
            "Ign:4 https://developer.download.nvidia.com/compute/machine-learning/repos/ubuntu1804/x86_64  InRelease\n",
            "Hit:5 https://developer.download.nvidia.com/compute/cuda/repos/ubuntu1804/x86_64  Release\n",
            "Hit:6 https://developer.download.nvidia.com/compute/machine-learning/repos/ubuntu1804/x86_64  Release\n",
            "Hit:7 http://ppa.launchpad.net/c2d4u.team/c2d4u4.0+/ubuntu bionic InRelease\n",
            "Hit:8 http://archive.ubuntu.com/ubuntu bionic InRelease\n",
            "Get:9 http://archive.ubuntu.com/ubuntu bionic-updates InRelease [88.7 kB]\n",
            "Hit:11 http://ppa.launchpad.net/cran/libgit2/ubuntu bionic InRelease\n",
            "Hit:13 http://ppa.launchpad.net/deadsnakes/ppa/ubuntu bionic InRelease\n",
            "Get:14 http://archive.ubuntu.com/ubuntu bionic-backports InRelease [74.6 kB]\n",
            "Hit:15 http://ppa.launchpad.net/graphics-drivers/ppa/ubuntu bionic InRelease\n",
            "Fetched 163 kB in 2s (70.9 kB/s)\n",
            "Reading package lists... Done\n",
            "Requirement already satisfied: pyspark==2.4.7 in /usr/local/lib/python3.7/dist-packages (2.4.7)\n",
            "Requirement already satisfied: py4j==0.10.7 in /usr/local/lib/python3.7/dist-packages (from pyspark==2.4.7) (0.10.7)\n"
          ]
        }
      ]
    },
    {
      "cell_type": "code",
      "metadata": {
        "id": "b9trjryEZImn"
      },
      "source": [
        "import os\n",
        "os.environ[\"JAVA_HOME\"] = \"/usr/lib/jvm/java-8-openjdk-amd64\"\n",
        "os.environ[\"SPARK_HOME\"] = \"/content/spark-2.4.7-bin-hadoop2.7\"\n"
      ],
      "execution_count": 3,
      "outputs": []
    },
    {
      "cell_type": "code",
      "metadata": {
        "colab": {
          "base_uri": "https://localhost:8080/",
          "height": 0
        },
        "id": "fEJSOJixZJ35",
        "outputId": "a43237f7-1bc4-4b44-c2b7-834702f49a6b"
      },
      "source": [
        "# Mount the cloud folder for data file storage\n",
        "from google.colab import drive\n",
        "drive.mount('/content/gdrive')\n"
      ],
      "execution_count": 4,
      "outputs": [
        {
          "output_type": "stream",
          "name": "stdout",
          "text": [
            "Drive already mounted at /content/gdrive; to attempt to forcibly remount, call drive.mount(\"/content/gdrive\", force_remount=True).\n"
          ]
        }
      ]
    },
    {
      "cell_type": "code",
      "metadata": {
        "id": "mZaqYZe8ZQns"
      },
      "source": [
        "\n",
        "csvFile = \"/content/gdrive/MyDrive/covid19/covid-19.csv\"\n",
        "\n",
        "\n",
        "\n"
      ],
      "execution_count": 5,
      "outputs": []
    },
    {
      "cell_type": "code",
      "metadata": {
        "colab": {
          "base_uri": "https://localhost:8080/",
          "height": 0
        },
        "id": "x0AoHLW3uojC",
        "outputId": "febe33c3-2a3b-4a98-8814-093058a8d44e"
      },
      "source": [
        "#Exploratory Data Analysis\n",
        "# Implemented by \" Uday Kiran \" ,Rollno 1122397\n",
        "import pandas as pd\n",
        "import numpy as np\n",
        "import seaborn as sns #visualisation\n",
        "import matplotlib.pyplot as plt #visualisation\n",
        "import scipy.sparse as sparse\n",
        "from scipy.sparse.linalg import spsolve\n",
        "from sklearn.preprocessing import MinMaxScaler\n",
        "sns.set(color_codes=True)\n",
        "data = pd.read_csv(\"/content/gdrive/MyDrive/covid-19 symptoms dataset.csv\")\n",
        "print(data)"
      ],
      "execution_count": 6,
      "outputs": [
        {
          "output_type": "stream",
          "name": "stdout",
          "text": [
            "      fever  bodyPain  age  runnyNose  diffBreath  infectionProb\n",
            "0       102         0    9          0          -1              0\n",
            "1       102         0   10          0           0              1\n",
            "2       104         0   33          1          -1              0\n",
            "3       101         1   59          0           1              0\n",
            "4        99         0   98          0           0              0\n",
            "...     ...       ...  ...        ...         ...            ...\n",
            "2570     99         0   90          0           0              1\n",
            "2571    100         0   53          0          -1              1\n",
            "2572    101         0   44          1           0              0\n",
            "2573    102         0   97          0          -1              1\n",
            "2574    104         1   62          1          -1              1\n",
            "\n",
            "[2575 rows x 6 columns]\n"
          ]
        }
      ]
    },
    {
      "cell_type": "code",
      "metadata": {
        "colab": {
          "base_uri": "https://localhost:8080/",
          "height": 0
        },
        "id": "QUy8kI2puojG",
        "outputId": "f6824b95-512c-4603-90a4-04786d41b0a9"
      },
      "source": [
        "data.shape # display rows and column in dataset \n"
      ],
      "execution_count": 7,
      "outputs": [
        {
          "output_type": "execute_result",
          "data": {
            "text/plain": [
              "(2575, 6)"
            ]
          },
          "metadata": {},
          "execution_count": 7
        }
      ]
    },
    {
      "cell_type": "code",
      "metadata": {
        "colab": {
          "base_uri": "https://localhost:8080/",
          "height": 1633
        },
        "id": "_p4RbNd4rS9k",
        "outputId": "48c61d40-2e62-4ee1-8d5f-9bb51c5756d1"
      },
      "source": [
        "#please run this cell when bellow cell is not runing and giving error and then restart runtime\n",
        "#if your code is working without runing this cell then please don't run it\n",
        "!pip install -U pandas-profiling"
      ],
      "execution_count": 20,
      "outputs": [
        {
          "output_type": "stream",
          "name": "stdout",
          "text": [
            "Requirement already satisfied: pandas-profiling in /usr/local/lib/python3.7/dist-packages (1.4.1)\n",
            "Collecting pandas-profiling\n",
            "  Downloading pandas_profiling-3.1.0-py2.py3-none-any.whl (261 kB)\n",
            "\u001b[K     |████████████████████████████████| 261 kB 4.1 MB/s \n",
            "\u001b[?25hRequirement already satisfied: missingno>=0.4.2 in /usr/local/lib/python3.7/dist-packages (from pandas-profiling) (0.5.0)\n",
            "Collecting tangled-up-in-unicode==0.1.0\n",
            "  Downloading tangled_up_in_unicode-0.1.0-py3-none-any.whl (3.1 MB)\n",
            "\u001b[K     |████████████████████████████████| 3.1 MB 36.5 MB/s \n",
            "\u001b[?25hRequirement already satisfied: tqdm>=4.48.2 in /usr/local/lib/python3.7/dist-packages (from pandas-profiling) (4.62.3)\n",
            "Requirement already satisfied: pandas!=1.0.0,!=1.0.1,!=1.0.2,!=1.1.0,>=0.25.3 in /usr/local/lib/python3.7/dist-packages (from pandas-profiling) (1.3.3)\n",
            "Requirement already satisfied: numpy>=1.16.0 in /usr/local/lib/python3.7/dist-packages (from pandas-profiling) (1.19.5)\n",
            "Collecting visions[type_image_path]==0.7.4\n",
            "  Downloading visions-0.7.4-py3-none-any.whl (102 kB)\n",
            "\u001b[K     |████████████████████████████████| 102 kB 11.7 MB/s \n",
            "\u001b[?25hRequirement already satisfied: markupsafe~=2.0.1 in /usr/local/lib/python3.7/dist-packages (from pandas-profiling) (2.0.1)\n",
            "Requirement already satisfied: scipy>=1.4.1 in /usr/local/lib/python3.7/dist-packages (from pandas-profiling) (1.4.1)\n",
            "Requirement already satisfied: joblib~=1.0.1 in /usr/local/lib/python3.7/dist-packages (from pandas-profiling) (1.0.1)\n",
            "Collecting pydantic>=1.8.1\n",
            "  Downloading pydantic-1.8.2-cp37-cp37m-manylinux2014_x86_64.whl (10.1 MB)\n",
            "\u001b[K     |████████████████████████████████| 10.1 MB 35.4 MB/s \n",
            "\u001b[?25hCollecting htmlmin>=0.1.12\n",
            "  Downloading htmlmin-0.1.12.tar.gz (19 kB)\n",
            "Requirement already satisfied: seaborn>=0.10.1 in /usr/local/lib/python3.7/dist-packages (from pandas-profiling) (0.11.2)\n",
            "Requirement already satisfied: matplotlib>=3.2.0 in /usr/local/lib/python3.7/dist-packages (from pandas-profiling) (3.2.2)\n",
            "Collecting multimethod>=1.4\n",
            "  Downloading multimethod-1.6-py3-none-any.whl (9.4 kB)\n",
            "Requirement already satisfied: jinja2>=2.11.1 in /usr/local/lib/python3.7/dist-packages (from pandas-profiling) (2.11.3)\n",
            "Collecting PyYAML>=5.0.0\n",
            "  Downloading PyYAML-5.4.1-cp37-cp37m-manylinux1_x86_64.whl (636 kB)\n",
            "\u001b[K     |████████████████████████████████| 636 kB 39.7 MB/s \n",
            "\u001b[?25hCollecting requests>=2.24.0\n",
            "  Downloading requests-2.26.0-py2.py3-none-any.whl (62 kB)\n",
            "\u001b[K     |████████████████████████████████| 62 kB 803 kB/s \n",
            "\u001b[?25hCollecting phik>=0.11.1\n",
            "  Downloading phik-0.12.0-cp37-cp37m-manylinux2010_x86_64.whl (675 kB)\n",
            "\u001b[K     |████████████████████████████████| 675 kB 46.0 MB/s \n",
            "\u001b[?25hRequirement already satisfied: networkx>=2.4 in /usr/local/lib/python3.7/dist-packages (from visions[type_image_path]==0.7.4->pandas-profiling) (2.6.3)\n",
            "Requirement already satisfied: attrs>=19.3.0 in /usr/local/lib/python3.7/dist-packages (from visions[type_image_path]==0.7.4->pandas-profiling) (21.2.0)\n",
            "Collecting imagehash\n",
            "  Downloading ImageHash-4.2.1.tar.gz (812 kB)\n",
            "\u001b[K     |████████████████████████████████| 812 kB 40.6 MB/s \n",
            "\u001b[?25hRequirement already satisfied: Pillow in /usr/local/lib/python3.7/dist-packages (from visions[type_image_path]==0.7.4->pandas-profiling) (7.1.2)\n",
            "Requirement already satisfied: cycler>=0.10 in /usr/local/lib/python3.7/dist-packages (from matplotlib>=3.2.0->pandas-profiling) (0.10.0)\n",
            "Requirement already satisfied: pyparsing!=2.0.4,!=2.1.2,!=2.1.6,>=2.0.1 in /usr/local/lib/python3.7/dist-packages (from matplotlib>=3.2.0->pandas-profiling) (2.4.7)\n",
            "Requirement already satisfied: kiwisolver>=1.0.1 in /usr/local/lib/python3.7/dist-packages (from matplotlib>=3.2.0->pandas-profiling) (1.3.2)\n",
            "Requirement already satisfied: python-dateutil>=2.1 in /usr/local/lib/python3.7/dist-packages (from matplotlib>=3.2.0->pandas-profiling) (2.8.2)\n",
            "Requirement already satisfied: six in /usr/local/lib/python3.7/dist-packages (from cycler>=0.10->matplotlib>=3.2.0->pandas-profiling) (1.15.0)\n",
            "Requirement already satisfied: pytz>=2017.3 in /usr/local/lib/python3.7/dist-packages (from pandas!=1.0.0,!=1.0.1,!=1.0.2,!=1.1.0,>=0.25.3->pandas-profiling) (2018.9)\n",
            "Collecting scipy>=1.4.1\n",
            "  Using cached scipy-1.7.1-cp37-cp37m-manylinux_2_5_x86_64.manylinux1_x86_64.whl (28.5 MB)\n",
            "Requirement already satisfied: typing-extensions>=3.7.4.3 in /usr/local/lib/python3.7/dist-packages (from pydantic>=1.8.1->pandas-profiling) (3.7.4.3)\n",
            "Requirement already satisfied: idna<4,>=2.5 in /usr/local/lib/python3.7/dist-packages (from requests>=2.24.0->pandas-profiling) (2.10)\n",
            "Requirement already satisfied: charset-normalizer~=2.0.0 in /usr/local/lib/python3.7/dist-packages (from requests>=2.24.0->pandas-profiling) (2.0.6)\n",
            "Requirement already satisfied: urllib3<1.27,>=1.21.1 in /usr/local/lib/python3.7/dist-packages (from requests>=2.24.0->pandas-profiling) (1.24.3)\n",
            "Requirement already satisfied: certifi>=2017.4.17 in /usr/local/lib/python3.7/dist-packages (from requests>=2.24.0->pandas-profiling) (2021.5.30)\n",
            "Requirement already satisfied: PyWavelets in /usr/local/lib/python3.7/dist-packages (from imagehash->visions[type_image_path]==0.7.4->pandas-profiling) (1.1.1)\n",
            "Building wheels for collected packages: htmlmin, imagehash\n",
            "  Building wheel for htmlmin (setup.py) ... \u001b[?25l\u001b[?25hdone\n",
            "  Created wheel for htmlmin: filename=htmlmin-0.1.12-py3-none-any.whl size=27098 sha256=74909975171eba99891a579f0317d813f89df17c2cdc18092566d33d15f00fb2\n",
            "  Stored in directory: /root/.cache/pip/wheels/70/e1/52/5b14d250ba868768823940c3229e9950d201a26d0bd3ee8655\n",
            "  Building wheel for imagehash (setup.py) ... \u001b[?25l\u001b[?25hdone\n",
            "  Created wheel for imagehash: filename=ImageHash-4.2.1-py2.py3-none-any.whl size=295207 sha256=23143b7bf92ac4fd55239e1398744dc27c98184330bf4b3dfa1f0a0a7ff8dd0a\n",
            "  Stored in directory: /root/.cache/pip/wheels/4c/d5/59/5e3e297533ddb09407769762985d134135064c6831e29a914e\n",
            "Successfully built htmlmin imagehash\n",
            "Installing collected packages: tangled-up-in-unicode, scipy, multimethod, visions, imagehash, requests, PyYAML, pydantic, phik, htmlmin, pandas-profiling\n",
            "  Attempting uninstall: scipy\n",
            "    Found existing installation: scipy 1.4.1\n",
            "    Uninstalling scipy-1.4.1:\n",
            "      Successfully uninstalled scipy-1.4.1\n",
            "  Attempting uninstall: requests\n",
            "    Found existing installation: requests 2.23.0\n",
            "    Uninstalling requests-2.23.0:\n",
            "      Successfully uninstalled requests-2.23.0\n",
            "  Attempting uninstall: PyYAML\n",
            "    Found existing installation: PyYAML 3.13\n",
            "    Uninstalling PyYAML-3.13:\n",
            "      Successfully uninstalled PyYAML-3.13\n",
            "  Attempting uninstall: pandas-profiling\n",
            "    Found existing installation: pandas-profiling 1.4.1\n",
            "    Uninstalling pandas-profiling-1.4.1:\n",
            "      Successfully uninstalled pandas-profiling-1.4.1\n",
            "\u001b[31mERROR: pip's dependency resolver does not currently take into account all the packages that are installed. This behaviour is the source of the following dependency conflicts.\n",
            "google-colab 1.0.0 requires pandas~=1.1.0; python_version >= \"3.0\", but you have pandas 1.3.3 which is incompatible.\n",
            "google-colab 1.0.0 requires requests~=2.23.0, but you have requests 2.26.0 which is incompatible.\n",
            "datascience 0.10.6 requires folium==0.2.1, but you have folium 0.8.3 which is incompatible.\n",
            "albumentations 0.1.12 requires imgaug<0.2.7,>=0.2.5, but you have imgaug 0.2.9 which is incompatible.\u001b[0m\n",
            "Successfully installed PyYAML-5.4.1 htmlmin-0.1.12 imagehash-4.2.1 multimethod-1.6 pandas-profiling-3.1.0 phik-0.12.0 pydantic-1.8.2 requests-2.26.0 scipy-1.7.1 tangled-up-in-unicode-0.1.0 visions-0.7.4\n"
          ]
        },
        {
          "output_type": "display_data",
          "data": {
            "application/vnd.colab-display-data+json": {
              "pip_warning": {
                "packages": [
                  "scipy"
                ]
              }
            }
          },
          "metadata": {}
        }
      ]
    },
    {
      "cell_type": "code",
      "metadata": {
        "colab": {
          "base_uri": "https://localhost:8080/",
          "height": 206
        },
        "id": "e1nUa5oquojH",
        "outputId": "8e8b6461-e6d1-4f73-8d0c-11dc0e52a142"
      },
      "source": [
        "# To display the top 5 rows\n",
        "data.head()"
      ],
      "execution_count": 8,
      "outputs": [
        {
          "output_type": "execute_result",
          "data": {
            "text/html": [
              "<div>\n",
              "<style scoped>\n",
              "    .dataframe tbody tr th:only-of-type {\n",
              "        vertical-align: middle;\n",
              "    }\n",
              "\n",
              "    .dataframe tbody tr th {\n",
              "        vertical-align: top;\n",
              "    }\n",
              "\n",
              "    .dataframe thead th {\n",
              "        text-align: right;\n",
              "    }\n",
              "</style>\n",
              "<table border=\"1\" class=\"dataframe\">\n",
              "  <thead>\n",
              "    <tr style=\"text-align: right;\">\n",
              "      <th></th>\n",
              "      <th>fever</th>\n",
              "      <th>bodyPain</th>\n",
              "      <th>age</th>\n",
              "      <th>runnyNose</th>\n",
              "      <th>diffBreath</th>\n",
              "      <th>infectionProb</th>\n",
              "    </tr>\n",
              "  </thead>\n",
              "  <tbody>\n",
              "    <tr>\n",
              "      <th>0</th>\n",
              "      <td>102</td>\n",
              "      <td>0</td>\n",
              "      <td>9</td>\n",
              "      <td>0</td>\n",
              "      <td>-1</td>\n",
              "      <td>0</td>\n",
              "    </tr>\n",
              "    <tr>\n",
              "      <th>1</th>\n",
              "      <td>102</td>\n",
              "      <td>0</td>\n",
              "      <td>10</td>\n",
              "      <td>0</td>\n",
              "      <td>0</td>\n",
              "      <td>1</td>\n",
              "    </tr>\n",
              "    <tr>\n",
              "      <th>2</th>\n",
              "      <td>104</td>\n",
              "      <td>0</td>\n",
              "      <td>33</td>\n",
              "      <td>1</td>\n",
              "      <td>-1</td>\n",
              "      <td>0</td>\n",
              "    </tr>\n",
              "    <tr>\n",
              "      <th>3</th>\n",
              "      <td>101</td>\n",
              "      <td>1</td>\n",
              "      <td>59</td>\n",
              "      <td>0</td>\n",
              "      <td>1</td>\n",
              "      <td>0</td>\n",
              "    </tr>\n",
              "    <tr>\n",
              "      <th>4</th>\n",
              "      <td>99</td>\n",
              "      <td>0</td>\n",
              "      <td>98</td>\n",
              "      <td>0</td>\n",
              "      <td>0</td>\n",
              "      <td>0</td>\n",
              "    </tr>\n",
              "  </tbody>\n",
              "</table>\n",
              "</div>"
            ],
            "text/plain": [
              "   fever  bodyPain  age  runnyNose  diffBreath  infectionProb\n",
              "0    102         0    9          0          -1              0\n",
              "1    102         0   10          0           0              1\n",
              "2    104         0   33          1          -1              0\n",
              "3    101         1   59          0           1              0\n",
              "4     99         0   98          0           0              0"
            ]
          },
          "metadata": {},
          "execution_count": 8
        }
      ]
    },
    {
      "cell_type": "code",
      "metadata": {
        "colab": {
          "base_uri": "https://localhost:8080/",
          "height": 206
        },
        "id": "gbp926gOuojI",
        "outputId": "878f8c48-53d7-4778-daf6-d0ef915dd1ec"
      },
      "source": [
        "# To display the bottom 5 rows\n",
        "data.tail(5)"
      ],
      "execution_count": 9,
      "outputs": [
        {
          "output_type": "execute_result",
          "data": {
            "text/html": [
              "<div>\n",
              "<style scoped>\n",
              "    .dataframe tbody tr th:only-of-type {\n",
              "        vertical-align: middle;\n",
              "    }\n",
              "\n",
              "    .dataframe tbody tr th {\n",
              "        vertical-align: top;\n",
              "    }\n",
              "\n",
              "    .dataframe thead th {\n",
              "        text-align: right;\n",
              "    }\n",
              "</style>\n",
              "<table border=\"1\" class=\"dataframe\">\n",
              "  <thead>\n",
              "    <tr style=\"text-align: right;\">\n",
              "      <th></th>\n",
              "      <th>fever</th>\n",
              "      <th>bodyPain</th>\n",
              "      <th>age</th>\n",
              "      <th>runnyNose</th>\n",
              "      <th>diffBreath</th>\n",
              "      <th>infectionProb</th>\n",
              "    </tr>\n",
              "  </thead>\n",
              "  <tbody>\n",
              "    <tr>\n",
              "      <th>2570</th>\n",
              "      <td>99</td>\n",
              "      <td>0</td>\n",
              "      <td>90</td>\n",
              "      <td>0</td>\n",
              "      <td>0</td>\n",
              "      <td>1</td>\n",
              "    </tr>\n",
              "    <tr>\n",
              "      <th>2571</th>\n",
              "      <td>100</td>\n",
              "      <td>0</td>\n",
              "      <td>53</td>\n",
              "      <td>0</td>\n",
              "      <td>-1</td>\n",
              "      <td>1</td>\n",
              "    </tr>\n",
              "    <tr>\n",
              "      <th>2572</th>\n",
              "      <td>101</td>\n",
              "      <td>0</td>\n",
              "      <td>44</td>\n",
              "      <td>1</td>\n",
              "      <td>0</td>\n",
              "      <td>0</td>\n",
              "    </tr>\n",
              "    <tr>\n",
              "      <th>2573</th>\n",
              "      <td>102</td>\n",
              "      <td>0</td>\n",
              "      <td>97</td>\n",
              "      <td>0</td>\n",
              "      <td>-1</td>\n",
              "      <td>1</td>\n",
              "    </tr>\n",
              "    <tr>\n",
              "      <th>2574</th>\n",
              "      <td>104</td>\n",
              "      <td>1</td>\n",
              "      <td>62</td>\n",
              "      <td>1</td>\n",
              "      <td>-1</td>\n",
              "      <td>1</td>\n",
              "    </tr>\n",
              "  </tbody>\n",
              "</table>\n",
              "</div>"
            ],
            "text/plain": [
              "      fever  bodyPain  age  runnyNose  diffBreath  infectionProb\n",
              "2570     99         0   90          0           0              1\n",
              "2571    100         0   53          0          -1              1\n",
              "2572    101         0   44          1           0              0\n",
              "2573    102         0   97          0          -1              1\n",
              "2574    104         1   62          1          -1              1"
            ]
          },
          "metadata": {},
          "execution_count": 9
        }
      ]
    },
    {
      "cell_type": "code",
      "metadata": {
        "colab": {
          "base_uri": "https://localhost:8080/",
          "height": 0
        },
        "id": "dIOvDGQ8uojI",
        "outputId": "9d620e66-76fe-4961-9549-857e205f46ea"
      },
      "source": [
        "# Checking the data type\n",
        "data.dtypes"
      ],
      "execution_count": 10,
      "outputs": [
        {
          "output_type": "execute_result",
          "data": {
            "text/plain": [
              "fever            int64\n",
              "bodyPain         int64\n",
              "age              int64\n",
              "runnyNose        int64\n",
              "diffBreath       int64\n",
              "infectionProb    int64\n",
              "dtype: object"
            ]
          },
          "metadata": {},
          "execution_count": 10
        }
      ]
    },
    {
      "cell_type": "code",
      "metadata": {
        "colab": {
          "base_uri": "https://localhost:8080/",
          "height": 0
        },
        "id": "Wp5zIgCRuojJ",
        "outputId": "bb4c74bf-1d8c-44ce-ecfd-bee26e4679a4"
      },
      "source": [
        "data.count()"
      ],
      "execution_count": 11,
      "outputs": [
        {
          "output_type": "execute_result",
          "data": {
            "text/plain": [
              "fever            2575\n",
              "bodyPain         2575\n",
              "age              2575\n",
              "runnyNose        2575\n",
              "diffBreath       2575\n",
              "infectionProb    2575\n",
              "dtype: int64"
            ]
          },
          "metadata": {},
          "execution_count": 11
        }
      ]
    },
    {
      "cell_type": "code",
      "metadata": {
        "colab": {
          "base_uri": "https://localhost:8080/",
          "height": 0
        },
        "id": "4P1Wa8mJuojJ",
        "outputId": "ea49576f-ed5c-4dad-8bb7-da4ea140d615"
      },
      "source": [
        "# Finding the null values.\n",
        "print(data.isnull().sum())"
      ],
      "execution_count": 12,
      "outputs": [
        {
          "output_type": "stream",
          "name": "stdout",
          "text": [
            "fever            0\n",
            "bodyPain         0\n",
            "age              0\n",
            "runnyNose        0\n",
            "diffBreath       0\n",
            "infectionProb    0\n",
            "dtype: int64\n"
          ]
        }
      ]
    },
    {
      "cell_type": "code",
      "metadata": {
        "colab": {
          "base_uri": "https://localhost:8080/",
          "height": 0
        },
        "id": "yYLUCKWGuojK",
        "outputId": "48100134-a06f-422b-b6a1-377a4427c658"
      },
      "source": [
        "# data cleaning (missing values or duplicated records\n",
        "data = data.dropna() \n",
        "data.count()"
      ],
      "execution_count": 13,
      "outputs": [
        {
          "output_type": "execute_result",
          "data": {
            "text/plain": [
              "fever            2575\n",
              "bodyPain         2575\n",
              "age              2575\n",
              "runnyNose        2575\n",
              "diffBreath       2575\n",
              "infectionProb    2575\n",
              "dtype: int64"
            ]
          },
          "metadata": {},
          "execution_count": 13
        }
      ]
    },
    {
      "cell_type": "code",
      "metadata": {
        "colab": {
          "base_uri": "https://localhost:8080/",
          "height": 0
        },
        "id": "nxsGht1_uojL",
        "outputId": "cd98a4d2-c631-41ea-a833-dad8c3ffeca1"
      },
      "source": [
        "# Finding duplicate data\n",
        "duplicate_rows_data = data[data.duplicated()]\n",
        "print('number of duplicate rows: ', duplicate_rows_data.shape)\n"
      ],
      "execution_count": 14,
      "outputs": [
        {
          "output_type": "stream",
          "name": "stdout",
          "text": [
            "number of duplicate rows:  (228, 6)\n"
          ]
        }
      ]
    },
    {
      "cell_type": "code",
      "metadata": {
        "colab": {
          "base_uri": "https://localhost:8080/",
          "height": 302
        },
        "id": "SOBrOR41uojM",
        "outputId": "f90ad5bf-f849-45de-bfc9-4d0d1c2e5481"
      },
      "source": [
        "# Box Plotting \n",
        "sns.boxplot(x=data['fever'])"
      ],
      "execution_count": 15,
      "outputs": [
        {
          "output_type": "execute_result",
          "data": {
            "text/plain": [
              "<matplotlib.axes._subplots.AxesSubplot at 0x7f381e81bc10>"
            ]
          },
          "metadata": {},
          "execution_count": 15
        },
        {
          "output_type": "display_data",
          "data": {
            "image/png": "[encoded data removed]",
            "text/plain": [
              "<Figure size 432x288 with 1 Axes>"
            ]
          },
          "metadata": {}
        }
      ]
    },
    {
      "cell_type": "code",
      "metadata": {
        "colab": {
          "base_uri": "https://localhost:8080/",
          "height": 285
        },
        "id": "DT1ug5I9uojM",
        "outputId": "1d8f7d62-edf1-4f06-e481-6fe3eb405a0b"
      },
      "source": [
        "#Histogram Plot\n",
        "data['fever'].plot(kind='hist')"
      ],
      "execution_count": 16,
      "outputs": [
        {
          "output_type": "execute_result",
          "data": {
            "text/plain": [
              "<matplotlib.axes._subplots.AxesSubplot at 0x7f381e284110>"
            ]
          },
          "metadata": {},
          "execution_count": 16
        },
        {
          "output_type": "display_data",
          "data": {
            "image/png": "[encoded data removed]",
            "text/plain": [
              "<Figure size 432x288 with 1 Axes>"
            ]
          },
          "metadata": {}
        }
      ]
    },
    {
      "cell_type": "code",
      "metadata": {
        "colab": {
          "base_uri": "https://localhost:8080/",
          "height": 477
        },
        "id": "sIdIk_czuojN",
        "outputId": "aea8a7e1-1b2f-4f36-9ddf-e6441958fe58"
      },
      "source": [
        "#Bar plot\n",
        "plt.figure(figsize=(9,6))\n",
        " \n",
        "plt.bar(x=data['fever'],\n",
        " \n",
        "        height=data['fever'], color='rgbwymc')\n",
        " \n",
        "plt.xticks(rotation=45)"
      ],
      "execution_count": 17,
      "outputs": [
        {
          "output_type": "stream",
          "name": "stderr",
          "text": [
            "/usr/local/lib/python3.7/dist-packages/ipykernel_launcher.py:6: MatplotlibDeprecationWarning: Using a string of single character colors as a color sequence is deprecated. Use an explicit list instead.\n",
            "  \n"
          ]
        },
        {
          "output_type": "execute_result",
          "data": {
            "text/plain": [
              "(array([ 97.,  98.,  99., 100., 101., 102., 103., 104., 105.]),\n",
              " <a list of 9 Text major ticklabel objects>)"
            ]
          },
          "metadata": {},
          "execution_count": 17
        },
        {
          "output_type": "display_data",
          "data": {
            "image/png": "[encoded data removed]",
            "text/plain": [
              "<Figure size 648x432 with 1 Axes>"
            ]
          },
          "metadata": {}
        }
      ]
    },
    {
      "cell_type": "code",
      "metadata": {
        "id": "AnO1L2pHuojN"
      },
      "source": [
        "#Task I.2: Recommendation engine\n",
        "#In this task work implementations are as following as \n",
        "#Algorithm:     Alternative Least Squares Algorithm\n",
        "#Model training and predictions \n",
        "#Model evaluation using MSE "
      ],
      "execution_count": null,
      "outputs": []
    },
    {
      "cell_type": "code",
      "metadata": {
        "colab": {
          "base_uri": "https://localhost:8080/",
          "height": 0
        },
        "id": "pb2xd5RmuojN",
        "outputId": "fc6b70b2-8ccd-4ff5-a7ae-f08f21f883a5"
      },
      "source": [
        "data['age_id'] = data['age'].astype(\"category\").cat.codes\n",
        "data['age_id']\n",
        "data['bodyPain_id'] = data['bodyPain'].astype(\"category\").cat.codes\n",
        "data['bodyPain_id']"
      ],
      "execution_count": 18,
      "outputs": [
        {
          "output_type": "execute_result",
          "data": {
            "text/plain": [
              "0       0\n",
              "1       0\n",
              "2       0\n",
              "3       1\n",
              "4       0\n",
              "       ..\n",
              "2570    0\n",
              "2571    0\n",
              "2572    0\n",
              "2573    0\n",
              "2574    1\n",
              "Name: bodyPain_id, Length: 2575, dtype: int8"
            ]
          },
          "metadata": {},
          "execution_count": 18
        }
      ]
    },
    {
      "cell_type": "code",
      "metadata": {
        "colab": {
          "base_uri": "https://localhost:8080/",
          "height": 424
        },
        "id": "XMDrmKADuojO",
        "outputId": "9eee17d7-3e50-4777-8303-324df5651815"
      },
      "source": [
        "fdata = data.loc[data.infectionProb != 0]\n",
        "fdata"
      ],
      "execution_count": 19,
      "outputs": [
        {
          "output_type": "execute_result",
          "data": {
            "text/html": [
              "<div>\n",
              "<style scoped>\n",
              "    .dataframe tbody tr th:only-of-type {\n",
              "        vertical-align: middle;\n",
              "    }\n",
              "\n",
              "    .dataframe tbody tr th {\n",
              "        vertical-align: top;\n",
              "    }\n",
              "\n",
              "    .dataframe thead th {\n",
              "        text-align: right;\n",
              "    }\n",
              "</style>\n",
              "<table border=\"1\" class=\"dataframe\">\n",
              "  <thead>\n",
              "    <tr style=\"text-align: right;\">\n",
              "      <th></th>\n",
              "      <th>fever</th>\n",
              "      <th>bodyPain</th>\n",
              "      <th>age</th>\n",
              "      <th>runnyNose</th>\n",
              "      <th>diffBreath</th>\n",
              "      <th>infectionProb</th>\n",
              "      <th>age_id</th>\n",
              "      <th>bodyPain_id</th>\n",
              "    </tr>\n",
              "  </thead>\n",
              "  <tbody>\n",
              "    <tr>\n",
              "      <th>1</th>\n",
              "      <td>102</td>\n",
              "      <td>0</td>\n",
              "      <td>10</td>\n",
              "      <td>0</td>\n",
              "      <td>0</td>\n",
              "      <td>1</td>\n",
              "      <td>9</td>\n",
              "      <td>0</td>\n",
              "    </tr>\n",
              "    <tr>\n",
              "      <th>5</th>\n",
              "      <td>102</td>\n",
              "      <td>0</td>\n",
              "      <td>59</td>\n",
              "      <td>1</td>\n",
              "      <td>1</td>\n",
              "      <td>1</td>\n",
              "      <td>58</td>\n",
              "      <td>0</td>\n",
              "    </tr>\n",
              "    <tr>\n",
              "      <th>7</th>\n",
              "      <td>99</td>\n",
              "      <td>1</td>\n",
              "      <td>34</td>\n",
              "      <td>0</td>\n",
              "      <td>1</td>\n",
              "      <td>1</td>\n",
              "      <td>33</td>\n",
              "      <td>1</td>\n",
              "    </tr>\n",
              "    <tr>\n",
              "      <th>8</th>\n",
              "      <td>104</td>\n",
              "      <td>0</td>\n",
              "      <td>45</td>\n",
              "      <td>1</td>\n",
              "      <td>-1</td>\n",
              "      <td>1</td>\n",
              "      <td>44</td>\n",
              "      <td>0</td>\n",
              "    </tr>\n",
              "    <tr>\n",
              "      <th>9</th>\n",
              "      <td>104</td>\n",
              "      <td>1</td>\n",
              "      <td>56</td>\n",
              "      <td>0</td>\n",
              "      <td>1</td>\n",
              "      <td>1</td>\n",
              "      <td>55</td>\n",
              "      <td>1</td>\n",
              "    </tr>\n",
              "    <tr>\n",
              "      <th>...</th>\n",
              "      <td>...</td>\n",
              "      <td>...</td>\n",
              "      <td>...</td>\n",
              "      <td>...</td>\n",
              "      <td>...</td>\n",
              "      <td>...</td>\n",
              "      <td>...</td>\n",
              "      <td>...</td>\n",
              "    </tr>\n",
              "    <tr>\n",
              "      <th>2562</th>\n",
              "      <td>98</td>\n",
              "      <td>0</td>\n",
              "      <td>94</td>\n",
              "      <td>1</td>\n",
              "      <td>-1</td>\n",
              "      <td>1</td>\n",
              "      <td>93</td>\n",
              "      <td>0</td>\n",
              "    </tr>\n",
              "    <tr>\n",
              "      <th>2570</th>\n",
              "      <td>99</td>\n",
              "      <td>0</td>\n",
              "      <td>90</td>\n",
              "      <td>0</td>\n",
              "      <td>0</td>\n",
              "      <td>1</td>\n",
              "      <td>89</td>\n",
              "      <td>0</td>\n",
              "    </tr>\n",
              "    <tr>\n",
              "      <th>2571</th>\n",
              "      <td>100</td>\n",
              "      <td>0</td>\n",
              "      <td>53</td>\n",
              "      <td>0</td>\n",
              "      <td>-1</td>\n",
              "      <td>1</td>\n",
              "      <td>52</td>\n",
              "      <td>0</td>\n",
              "    </tr>\n",
              "    <tr>\n",
              "      <th>2573</th>\n",
              "      <td>102</td>\n",
              "      <td>0</td>\n",
              "      <td>97</td>\n",
              "      <td>0</td>\n",
              "      <td>-1</td>\n",
              "      <td>1</td>\n",
              "      <td>96</td>\n",
              "      <td>0</td>\n",
              "    </tr>\n",
              "    <tr>\n",
              "      <th>2574</th>\n",
              "      <td>104</td>\n",
              "      <td>1</td>\n",
              "      <td>62</td>\n",
              "      <td>1</td>\n",
              "      <td>-1</td>\n",
              "      <td>1</td>\n",
              "      <td>61</td>\n",
              "      <td>1</td>\n",
              "    </tr>\n",
              "  </tbody>\n",
              "</table>\n",
              "<p>1271 rows × 8 columns</p>\n",
              "</div>"
            ],
            "text/plain": [
              "      fever  bodyPain  age  ...  infectionProb  age_id  bodyPain_id\n",
              "1       102         0   10  ...              1       9            0\n",
              "5       102         0   59  ...              1      58            0\n",
              "7        99         1   34  ...              1      33            1\n",
              "8       104         0   45  ...              1      44            0\n",
              "9       104         1   56  ...              1      55            1\n",
              "...     ...       ...  ...  ...            ...     ...          ...\n",
              "2562     98         0   94  ...              1      93            0\n",
              "2570     99         0   90  ...              1      89            0\n",
              "2571    100         0   53  ...              1      52            0\n",
              "2573    102         0   97  ...              1      96            0\n",
              "2574    104         1   62  ...              1      61            1\n",
              "\n",
              "[1271 rows x 8 columns]"
            ]
          },
          "metadata": {},
          "execution_count": 19
        }
      ]
    },
    {
      "cell_type": "code",
      "metadata": {
        "colab": {
          "base_uri": "https://localhost:8080/",
          "height": 0
        },
        "id": "vz8dTEMxuojO",
        "outputId": "b23fbef7-af08-4d2c-bb58-0ca5dceb7afd"
      },
      "source": [
        "n_users = data['age_id'].unique().shape[0]\n",
        "n_items = data['bodyPain_id'].unique().shape[0]\n",
        "ratings = np.zeros((n_users, n_items))\n",
        "matrix_size = np.prod(ratings.shape)\n",
        "interaction = np.flatnonzero(ratings).shape[0]\n",
        "sparsity = 100 * (interaction / matrix_size)\n",
        "print('dimension: ', ratings.shape)\n",
        "print('sparsity: {:.1f}%'.format(sparsity))"
      ],
      "execution_count": 20,
      "outputs": [
        {
          "output_type": "stream",
          "name": "stdout",
          "text": [
            "dimension:  (100, 2)\n",
            "sparsity: 0.0%\n"
          ]
        }
      ]
    },
    {
      "cell_type": "code",
      "metadata": {
        "colab": {
          "base_uri": "https://localhost:8080/",
          "height": 0
        },
        "id": "h-RzGFnnuojP",
        "outputId": "41e01ba3-3294-40de-84dc-718e75992f1b"
      },
      "source": [
        "similar = data['age_id'] = data['age'].astype(\"category\").cat.codes\n",
        "print (similar)"
      ],
      "execution_count": 21,
      "outputs": [
        {
          "output_type": "stream",
          "name": "stdout",
          "text": [
            "0        8\n",
            "1        9\n",
            "2       32\n",
            "3       58\n",
            "4       97\n",
            "        ..\n",
            "2570    89\n",
            "2571    52\n",
            "2572    43\n",
            "2573    96\n",
            "2574    61\n",
            "Length: 2575, dtype: int8\n"
          ]
        }
      ]
    },
    {
      "cell_type": "code",
      "metadata": {
        "id": "yaSnOmPGuojP"
      },
      "source": [
        "#!pip install implicit\n",
        "#import implicit \n",
        "sparse_item_user = sparse.csr_matrix((data['fever'].astype(float), (data['age'], data['bodyPain'])))"
      ],
      "execution_count": 26,
      "outputs": []
    },
    {
      "cell_type": "code",
      "metadata": {
        "id": "9Q4VhIhvuojP"
      },
      "source": [
        "sparse_user_item = sparse.csr_matrix((data['fever'].astype(float), (data['bodyPain'], data['age'])))"
      ],
      "execution_count": 22,
      "outputs": []
    },
    {
      "cell_type": "code",
      "metadata": {
        "colab": {
          "base_uri": "https://localhost:8080/",
          "height": 0
        },
        "id": "YBPYXOa_nHq0",
        "outputId": "664cde4c-c018-4b87-e0b2-b96d2756485f"
      },
      "source": [
        "!pip install pandas --upgrade\n",
        "!pip install implicit --upgrade"
      ],
      "execution_count": 24,
      "outputs": [
        {
          "output_type": "stream",
          "name": "stdout",
          "text": [
            "Requirement already satisfied: pandas in /usr/local/lib/python3.7/dist-packages (1.3.3)\n",
            "Requirement already satisfied: python-dateutil>=2.7.3 in /usr/local/lib/python3.7/dist-packages (from pandas) (2.8.2)\n",
            "Requirement already satisfied: numpy>=1.17.3 in /usr/local/lib/python3.7/dist-packages (from pandas) (1.19.5)\n",
            "Requirement already satisfied: pytz>=2017.3 in /usr/local/lib/python3.7/dist-packages (from pandas) (2018.9)\n",
            "Requirement already satisfied: six>=1.5 in /usr/local/lib/python3.7/dist-packages (from python-dateutil>=2.7.3->pandas) (1.15.0)\n",
            "Requirement already satisfied: implicit in /usr/local/lib/python3.7/dist-packages (0.4.8)\n",
            "Requirement already satisfied: tqdm>=4.27 in /usr/local/lib/python3.7/dist-packages (from implicit) (4.62.3)\n",
            "Requirement already satisfied: scipy>=0.16 in /usr/local/lib/python3.7/dist-packages (from implicit) (1.7.1)\n",
            "Requirement already satisfied: numpy in /usr/local/lib/python3.7/dist-packages (from implicit) (1.19.5)\n"
          ]
        }
      ]
    },
    {
      "cell_type": "code",
      "metadata": {
        "colab": {
          "base_uri": "https://localhost:8080/",
          "height": 49,
          "referenced_widgets": [
            "0bed10f63484465b8d835549acb06bd1",
            "11833347ceb14ce8813f36397cc3c5ad",
            "19564b9a612a480b811baea434edd7e0",
            "8c8a4c03daef4f9ba2d6ecf18fdb76ff",
            "7546b71425ae4337a0a3c474daba8c79",
            "9d985808841b423da1d79d8b79ab3d44",
            "79186e7d00644fcebd66f1d5cb64a3de",
            "77addc9bd9a74a5ca7e425a7356d5bb1",
            "b7586a9b0f2b413f8d11d29b73696be4",
            "627f26df22d04ffa83f45a55fdb90f1f",
            "d24d9258800d48c38d5988887c27129a"
          ]
        },
        "id": "jSsfzRWeuojP",
        "outputId": "4a1a6c1e-7c61-449e-c63f-3140eb799636"
      },
      "source": [
        "#Building the ALS model\n",
        "import implicit \n",
        "#model = implicit.als.AlternatingLeastSquares(factors=20, regularization=0.5, iterations=50)\n",
        "model = implicit.als.AlternatingLeastSquares(factors=20, regularization=0.5, iterations=50)\n",
        "alpha_val = 80\n",
        "data_conf = (sparse_item_user * alpha_val).astype('double')\n",
        "model.fit(data_conf)"
      ],
      "execution_count": 27,
      "outputs": [
        {
          "output_type": "display_data",
          "data": {
            "application/vnd.jupyter.widget-view+json": {
              "model_id": "0bed10f63484465b8d835549acb06bd1",
              "version_minor": 0,
              "version_major": 2
            },
            "text/plain": [
              "  0%|          | 0/50 [00:00<?, ?it/s]"
            ]
          },
          "metadata": {}
        }
      ]
    },
    {
      "cell_type": "code",
      "metadata": {
        "colab": {
          "base_uri": "https://localhost:8080/",
          "height": 0
        },
        "id": "4NrXGRlcuojQ",
        "outputId": "2a63cc2d-d26a-41d0-d09f-270c94a17e71"
      },
      "source": [
        "##Get Recommendations\n",
        "user_id =  1\n",
        "recommended = model.recommend(user_id, sparse_user_item)\n",
        "print(recommended)"
      ],
      "execution_count": 28,
      "outputs": [
        {
          "output_type": "stream",
          "name": "stdout",
          "text": [
            "[(0, 0.0), (0, 0.0), (0, 0.0), (0, 0.0), (0, 0.0), (0, 0.0), (0, 0.0), (0, 0.0), (0, 0.0), (0, 0.0)]\n"
          ]
        }
      ]
    },
    {
      "cell_type": "code",
      "metadata": {
        "id": "FMQzWSqwuojQ",
        "colab": {
          "base_uri": "https://localhost:8080/",
          "height": 0
        },
        "outputId": "ce042556-eefc-422f-e89c-ab130f4234e8"
      },
      "source": [
        "# Find similar items\n",
        "item_id = 12\n",
        "n_similar = 5\n",
        "similar = model.similar_items(item_id, n_similar)\n",
        "print(similar)"
      ],
      "execution_count": 29,
      "outputs": [
        {
          "output_type": "stream",
          "name": "stdout",
          "text": [
            "[(0, 0.0), (0, 0.0), (0, 0.0), (0, 0.0), (0, 0.0)]\n"
          ]
        }
      ]
    },
    {
      "cell_type": "code",
      "metadata": {
        "id": "GJUrcO2WuojQ"
      },
      "source": [
        "#Model training and predictions \n",
        "\n",
        "from numpy.linalg import solve\n",
        "\n",
        "class ExplicitMF():\n",
        "    def __init__(self, \n",
        "                 ratings, \n",
        "                 n_factors=40, \n",
        "                 item_reg=0.0, \n",
        "                 user_reg=0.0,\n",
        "                 verbose=False):\n",
        "        \"\"\"\n",
        "        Train a matrix factorization model to predict empty \n",
        "        entries in a matrix. The terminology assumes a \n",
        "        ratings matrix which is ~ user x item\n",
        "        \n",
        "        Params\n",
        "        ======\n",
        "        ratings : (ndarray)\n",
        "            User x Item matrix with corresponding ratings\n",
        "        \n",
        "        n_factors : (int)\n",
        "            Number of latent factors to use in matrix \n",
        "            factorization model\n",
        "        \n",
        "        item_reg : (float)\n",
        "            Regularization term for item latent factors\n",
        "        \n",
        "        user_reg : (float)\n",
        "            Regularization term for user latent factors\n",
        "        \n",
        "        verbose : (bool)\n",
        "            Whether or not to printout training progress\n",
        "        \"\"\"\n",
        "        \n",
        "        self.ratings = ratings\n",
        "        self.n_users, self.n_items = ratings.shape\n",
        "        self.n_factors = n_factors\n",
        "        self.item_reg = item_reg\n",
        "        self.user_reg = user_reg\n",
        "        self._v = verbose\n",
        "\n",
        "    def als_step(self,\n",
        "                 latent_vectors,\n",
        "                 fixed_vecs,\n",
        "                 ratings,\n",
        "                 _lambda,\n",
        "                 type='user'):\n",
        "        \"\"\"\n",
        "        One of the two ALS steps. Solve for the latent vectors\n",
        "        specified by type.\n",
        "        \"\"\"\n",
        "        if type == 'user':\n",
        "            # Precompute\n",
        "            YTY = fixed_vecs.T.dot(fixed_vecs)\n",
        "            lambdaI = np.eye(YTY.shape[0]) * _lambda\n",
        "\n",
        "            for u in xrange(latent_vectors.shape[0]):\n",
        "                latent_vectors[u, :] = solve((YTY + lambdaI), \n",
        "                                             ratings[u, :].dot(fixed_vecs))\n",
        "        elif type == 'item':\n",
        "            # Precompute\n",
        "            XTX = fixed_vecs.T.dot(fixed_vecs)\n",
        "            lambdaI = np.eye(XTX.shape[0]) * _lambda\n",
        "            \n",
        "            for i in xrange(latent_vectors.shape[0]):\n",
        "                latent_vectors[i, :] = solve((XTX + lambdaI), \n",
        "                                             ratings[:, i].T.dot(fixed_vecs))\n",
        "        return latent_vectors\n",
        "\n",
        "    def train(self, n_iter=10):\n",
        "        \"\"\" Train model for n_iter iterations from scratch.\"\"\"\n",
        "        # initialize latent vectors\n",
        "        self.user_vecs = np.random.random((self.n_users, self.n_factors))\n",
        "        self.item_vecs = np.random.random((self.n_items, self.n_factors))\n",
        "        \n",
        "        self.partial_train(n_iter)\n",
        "    \n",
        "    def partial_train(self, n_iter):\n",
        "        \"\"\" \n",
        "        Train model for n_iter iterations. Can be \n",
        "        called multiple times for further training.\n",
        "        \"\"\"\n",
        "        ctr = 1\n",
        "        while ctr <= n_iter:\n",
        "            if ctr % 10 == 0 and self._v:\n",
        "                print ('\\tcurrent iteration: {}'.format(ctr))\n",
        "            self.user_vecs = self.als_step(self.user_vecs, \n",
        "                                           self.item_vecs, \n",
        "                                           self.ratings, \n",
        "                                           self.user_reg, \n",
        "                                           type='user')\n",
        "            self.item_vecs = self.als_step(self.item_vecs, \n",
        "                                           self.user_vecs, \n",
        "                                           self.ratings, \n",
        "                                           self.item_reg, \n",
        "                                           type='item')\n",
        "            ctr += 1\n",
        "    \n",
        "    def predict_all(self):\n",
        "        \"\"\" Predict ratings for every user and item. \"\"\"\n",
        "        predictions = np.zeros((self.user_vecs.shape[0], \n",
        "                                self.item_vecs.shape[0]))\n",
        "        for u in xrange(self.user_vecs.shape[0]):\n",
        "            for i in xrange(self.item_vecs.shape[0]):\n",
        "                predictions[u, i] = self.predict(u, i)\n",
        "                \n",
        "        return predictions\n",
        "    def predict(self, u, i):\n",
        "        \"\"\" Single user and item prediction. \"\"\"\n",
        "        return self.user_vecs[u, :].dot(self.item_vecs[i, :].T)\n",
        "    \n",
        "    def calculate_learning_curve(self, iter_array, test):\n",
        "        \n",
        "        iter_array.sort()\n",
        "        self.train_mse =[]\n",
        "        self.test_mse = []\n",
        "        iter_diff = 0\n",
        "        for (i, n_iter) in enumerate(iter_array):\n",
        "            if self._v:\n",
        "                print ('Iteration: {}'.format(n_iter))\n",
        "            if i == 0:\n",
        "                self.train(n_iter - iter_diff)\n",
        "            else:\n",
        "                self.partial_train(n_iter - iter_diff)\n",
        "\n",
        "            predictions = self.predict_all()\n",
        "\n",
        "            self.train_mse += [get_mse(predictions, self.ratings)]\n",
        "            self.test_mse += [get_mse(predictions, test)]\n",
        "            if self._v:\n",
        "                print ('Train mse: ' + str(self.train_mse[-1]))\n",
        "                print( 'Test mse: ' + str(self.test_mse[-1]))\n",
        "            iter_diff = n_iter"
      ],
      "execution_count": 30,
      "outputs": []
    },
    {
      "cell_type": "code",
      "metadata": {
        "id": "h_qhAOsMuojS"
      },
      "source": [
        "#calculate Mean Squared Error (MSE)\n",
        "from sklearn.metrics import mean_squared_error\n",
        "\n",
        "def get_mse(pred, actual):\n",
        "    # Ignore nonzero terms.\n",
        "    pred = pred[actual.nonzero()].flatten()\n",
        "    actual = actual[actual.nonzero()].flatten()\n",
        "    return mean_squared_error(pred, actual)"
      ],
      "execution_count": 31,
      "outputs": []
    },
    {
      "cell_type": "code",
      "metadata": {
        "id": "1nsmErLLuojS",
        "colab": {
          "base_uri": "https://localhost:8080/",
          "height": 0
        },
        "outputId": "81399c0e-29f5-499f-d9a5-0011b1b0bebd"
      },
      "source": [
        "#Optimizing ALS model parameters & Model evaluation using MSE \n",
        "latent_factors = [5, 10, 20, 40, 80]\n",
        "regularizations = [0.1, 1., 10., 100.]\n",
        "regularizations.sort()\n",
        "iter_array = [1, 2, 5, 10, 25, 50, 100]\n",
        "\n",
        "best_params = {}\n",
        "best_params['n_factors'] = latent_factors[0]\n",
        "best_params['reg'] = regularizations[0]\n",
        "best_params['n_iter'] = 0\n",
        "best_params['train_mse'] = np.inf\n",
        "best_params['test_mse'] = np.inf\n",
        "best_params['model'] = None\n",
        "\n",
        "for fact in latent_factors:\n",
        "    print ('Factors: {}'.format(fact))\n",
        "    for reg in regularizations:\n",
        "        print ('Regularization: {}'.format(reg))"
      ],
      "execution_count": 32,
      "outputs": [
        {
          "output_type": "stream",
          "name": "stdout",
          "text": [
            "Factors: 5\n",
            "Regularization: 0.1\n",
            "Regularization: 1.0\n",
            "Regularization: 10.0\n",
            "Regularization: 100.0\n",
            "Factors: 10\n",
            "Regularization: 0.1\n",
            "Regularization: 1.0\n",
            "Regularization: 10.0\n",
            "Regularization: 100.0\n",
            "Factors: 20\n",
            "Regularization: 0.1\n",
            "Regularization: 1.0\n",
            "Regularization: 10.0\n",
            "Regularization: 100.0\n",
            "Factors: 40\n",
            "Regularization: 0.1\n",
            "Regularization: 1.0\n",
            "Regularization: 10.0\n",
            "Regularization: 100.0\n",
            "Factors: 80\n",
            "Regularization: 0.1\n",
            "Regularization: 1.0\n",
            "Regularization: 10.0\n",
            "Regularization: 100.0\n"
          ]
        }
      ]
    },
    {
      "cell_type": "code",
      "metadata": {
        "id": "ckwhojT3uojT",
        "colab": {
          "base_uri": "https://localhost:8080/",
          "height": 35
        },
        "outputId": "2905c8a0-91ca-4017-dbe1-b28e8ab1dacd"
      },
      "source": [
        "#Task I.3: Classification\n",
        "'''This subtask requires you to implement a classification system with Logistic regression. You need to include\n",
        "• Logistic Regression model training\n",
        "• Model evaluation'''"
      ],
      "execution_count": 33,
      "outputs": [
        {
          "output_type": "execute_result",
          "data": {
            "application/vnd.google.colaboratory.intrinsic+json": {
              "type": "string"
            },
            "text/plain": [
              "'This subtask requires you to implement a classification system with Logistic regression. You need to include\\n• Logistic Regression model training\\n• Model evaluation'"
            ]
          },
          "metadata": {},
          "execution_count": 33
        }
      ]
    },
    {
      "cell_type": "code",
      "metadata": {
        "id": "wfSq7cgMuojT"
      },
      "source": [
        "#Classification\n",
        "# Implemented by \" Uday Kiran \" ,Rollno 1122397\n",
        "import pandas as pd\n",
        "import numpy as np\n",
        "import seaborn as sns #visualisation\n",
        "import matplotlib.pyplot as plt #visualisation\n",
        "sns.set(color_codes=True)\n",
        "from sklearn.linear_model import LogisticRegression\n",
        "from sklearn.metrics import classification_report, confusion_matrix"
      ],
      "execution_count": 34,
      "outputs": []
    },
    {
      "cell_type": "code",
      "metadata": {
        "id": "o6GVRINwuojT",
        "colab": {
          "base_uri": "https://localhost:8080/",
          "height": 0
        },
        "outputId": "d6009366-1805-40b5-9602-2fcdb502ed90"
      },
      "source": [
        "# input\n",
        "x = data.iloc[:, [2, 3]].values\n",
        "x"
      ],
      "execution_count": 35,
      "outputs": [
        {
          "output_type": "execute_result",
          "data": {
            "text/plain": [
              "array([[ 9,  0],\n",
              "       [10,  0],\n",
              "       [33,  1],\n",
              "       ...,\n",
              "       [44,  1],\n",
              "       [97,  0],\n",
              "       [62,  1]])"
            ]
          },
          "metadata": {},
          "execution_count": 35
        }
      ]
    },
    {
      "cell_type": "code",
      "metadata": {
        "id": "2r9Uw4N-uojT",
        "colab": {
          "base_uri": "https://localhost:8080/",
          "height": 0
        },
        "outputId": "8823070e-5e88-470f-d1e7-77f9ba310f3d"
      },
      "source": [
        "y = data.iloc[:, 4].values\n",
        "y"
      ],
      "execution_count": 36,
      "outputs": [
        {
          "output_type": "execute_result",
          "data": {
            "text/plain": [
              "array([-1,  0, -1, ...,  0, -1, -1])"
            ]
          },
          "metadata": {},
          "execution_count": 36
        }
      ]
    },
    {
      "cell_type": "code",
      "metadata": {
        "id": "8Jt2z0PGuojT",
        "colab": {
          "base_uri": "https://localhost:8080/",
          "height": 0
        },
        "outputId": "87f139ac-c712-4815-c22a-b9cd956162c9"
      },
      "source": [
        "data['age'].unique()"
      ],
      "execution_count": 37,
      "outputs": [
        {
          "output_type": "execute_result",
          "data": {
            "text/plain": [
              "array([  9,  10,  33,  59,  98,  88,  34,  45,  56,  96,  77,  35,  25,\n",
              "        64,  84,  43,  40,  81,  19,  30,  44,  23,  11,  15,  70,  26,\n",
              "        97,  17,  16,  18,   3,  79,  39,  75,  74,   4,  49,  89,  31,\n",
              "       100,  80,  73,  95,  29,   6,  12,  82,  38,  21,  53,   5,  61,\n",
              "        91,  92,  63,  57,  47,  32,  68,  85,  94,  78,  87,  67,   1,\n",
              "        55,  58,  72,  52,  28,  13,  65,  51,  86,  66,  41,  54,  42,\n",
              "        36,   2,  14,  27,  22,  76,  50,  69,  62,  93,  71,  24,   8,\n",
              "         7,  46,  37,  20,  60,  90,  99,  83,  48])"
            ]
          },
          "metadata": {},
          "execution_count": 37
        }
      ]
    },
    {
      "cell_type": "code",
      "metadata": {
        "id": "8Wa3bHZPuojU",
        "colab": {
          "base_uri": "https://localhost:8080/",
          "height": 0
        },
        "outputId": "1d68112e-a474-4c73-fc5e-23f8b312691a"
      },
      "source": [
        "from sklearn.linear_model import LogisticRegression\n",
        "from sklearn.metrics import classification_report, confusion_matrix\n",
        "model = LogisticRegression(solver='liblinear', random_state=0)\n",
        "model.fit(x, y)"
      ],
      "execution_count": 38,
      "outputs": [
        {
          "output_type": "execute_result",
          "data": {
            "text/plain": [
              "LogisticRegression(C=1.0, class_weight=None, dual=False, fit_intercept=True,\n",
              "                   intercept_scaling=1, l1_ratio=None, max_iter=100,\n",
              "                   multi_class='auto', n_jobs=None, penalty='l2',\n",
              "                   random_state=0, solver='liblinear', tol=0.0001, verbose=0,\n",
              "                   warm_start=False)"
            ]
          },
          "metadata": {},
          "execution_count": 38
        }
      ]
    },
    {
      "cell_type": "code",
      "metadata": {
        "id": "cf__dThXuojU",
        "colab": {
          "base_uri": "https://localhost:8080/",
          "height": 0
        },
        "outputId": "b8e61f90-d941-4dee-a521-a88b4774260f"
      },
      "source": [
        "#Model evaluation\n",
        "import numpy as np\n",
        "import pandas as pd\n",
        "from sklearn.model_selection import train_test_split\n",
        "import warnings\n",
        "warnings.filterwarnings( \"ignore\" )\n",
        "  \n",
        "# to compare our model's accuracy with sklearn model\n",
        "from sklearn.linear_model import LogisticRegression\n",
        "# Logistic Regression\n",
        "class LogitRegression() :\n",
        "    def __init__( self, learning_rate, iterations ) :        \n",
        "        self.learning_rate = learning_rate        \n",
        "        self.iterations = iterations\n",
        "          \n",
        "    # Function for model training    \n",
        "    def fit( self, X, Y ) :        \n",
        "        # no_of_training_examples, no_of_features        \n",
        "        self.m, self.n = X.shape        \n",
        "        # weight initialization        \n",
        "        self.W = np.zeros( self.n )        \n",
        "        self.b = 0        \n",
        "        self.X = X        \n",
        "        self.Y = Y\n",
        "          \n",
        "        # gradient descent learning\n",
        "                  \n",
        "        for i in range( self.iterations ) :            \n",
        "            self.update_weights()            \n",
        "        return self\n",
        "      \n",
        "    # Helper function to update weights in gradient descent\n",
        "      \n",
        "    def update_weights( self ) :           \n",
        "        A = 1 / ( 1 + np.exp( - ( self.X.dot( self.W ) + self.b ) ) )\n",
        "          \n",
        "        # calculate gradients        \n",
        "        tmp = ( A - self.Y.T )        \n",
        "        tmp = np.reshape( tmp, self.m )        \n",
        "        dW = np.dot( self.X.T, tmp ) / self.m         \n",
        "        db = np.sum( tmp ) / self.m \n",
        "          \n",
        "        # update weights    \n",
        "        self.W = self.W - self.learning_rate * dW    \n",
        "        self.b = self.b - self.learning_rate * db\n",
        "          \n",
        "        return self\n",
        "      \n",
        "    # Hypothetical function  h( x ) \n",
        "      \n",
        "    def predict( self, X ) :    \n",
        "        Z = 1 / ( 1 + np.exp( - ( X.dot( self.W ) + self.b ) ) )        \n",
        "        Y = np.where( Z > 0.5, 1, 0 )        \n",
        "        return Y\n",
        "  \n",
        "  \n",
        "# Driver code\n",
        "  \n",
        "def main() :\n",
        "      \n",
        "    # Importing dataset    \n",
        "    df = pd.read_csv( \"/content/gdrive/MyDrive/covid-19 symptoms dataset.csv\" )\n",
        "    X = df.iloc[:,:-1].values\n",
        "    Y = df.iloc[:,-1:].values\n",
        "      \n",
        "    # Splitting dataset into train and test set\n",
        "    X_train, X_test, Y_train, Y_test = train_test_split(\n",
        "      X, Y, test_size = 1/3, random_state = 0 )\n",
        "      \n",
        "    # Model training    \n",
        "    model = LogitRegression( learning_rate = 0.01, iterations = 1000 )\n",
        "      \n",
        "    model.fit( X_train, Y_train )    \n",
        "    model1 = LogisticRegression()    \n",
        "    model1.fit( X_train, Y_train)\n",
        "      \n",
        "    # Prediction on test set\n",
        "    Y_pred = model.predict( X_test )    \n",
        "    Y_pred1 = model1.predict( X_test )\n",
        "      \n",
        "    # measure performance    \n",
        "    correctly_classified = 0    \n",
        "    correctly_classified1 = 0\n",
        "      \n",
        "    # counter    \n",
        "    count = 0    \n",
        "    for count in range( np.size( Y_pred ) ) :  \n",
        "        \n",
        "        if Y_test[count] == Y_pred[count] :            \n",
        "            correctly_classified = correctly_classified + 1\n",
        "          \n",
        "        if Y_test[count] == Y_pred1[count] :            \n",
        "            correctly_classified1 = correctly_classified1 + 1\n",
        "              \n",
        "        count = count + 1\n",
        "          \n",
        "    print( \"Accuracy on test set by our model       :  \", ( \n",
        "      correctly_classified / count ) * 100 )\n",
        "    print( \"Accuracy on test set by sklearn model   :  \", ( \n",
        "      correctly_classified1 / count ) * 100 )\n",
        "  \n",
        "  \n",
        "if __name__ == \"__main__\" :     \n",
        "    main()\n"
      ],
      "execution_count": 40,
      "outputs": [
        {
          "output_type": "stream",
          "name": "stdout",
          "text": [
            "Accuracy on test set by our model       :   48.07916181606519\n",
            "Accuracy on test set by sklearn model   :   50.87310826542492\n"
          ]
        }
      ]
    },
    {
      "cell_type": "code",
      "metadata": {
        "id": "kQJusvQ0uojU",
        "colab": {
          "base_uri": "https://localhost:8080/",
          "height": 248
        },
        "outputId": "7f536834-6a39-49ae-d97f-075d438e21ab"
      },
      "source": [
        "# Plot outputs\n",
        "# Split the data into training/testing sets\n",
        "data_X_train = data[:-20]\n",
        "data_X_test = data[-20:]\n",
        "\n",
        "# Split the targets into training/testing sets\n",
        "data_y_train = data[:-20]\n",
        "data_y_test = data[-20:]\n",
        "import matplotlib.pyplot as plt \n",
        "plt.scatter(data_X_test, data_y_test,  color='black')\n",
        "plt.plot(data_X_train, data_y_train, color='blue', linewidth=3)\n",
        "plt.xticks(())\n",
        "plt.yticks(())\n",
        "plt.show()"
      ],
      "execution_count": 41,
      "outputs": [
        {
          "output_type": "display_data",
          "data": {
            "image/png": "[encoded data removed]",
            "text/plain": [
              "<Figure size 432x288 with 1 Axes>"
            ]
          },
          "metadata": {}
        }
      ]
    },
    {
      "cell_type": "code",
      "metadata": {
        "id": "Cf_RZQwSuojV"
      },
      "source": [
        ""
      ],
      "execution_count": null,
      "outputs": []
    }
  ]
}